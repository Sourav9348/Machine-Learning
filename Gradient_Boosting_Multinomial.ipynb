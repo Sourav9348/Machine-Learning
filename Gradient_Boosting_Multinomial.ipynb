{
 "cells": [
  {
   "cell_type": "code",
   "execution_count": 1,
   "metadata": {
    "id": "x_WgpfMXnD3X"
   },
   "outputs": [],
   "source": [
    "import pandas as pd\n",
    "import numpy as np\n",
    "from sklearn.preprocessing import LabelEncoder\n",
    "from sklearn.model_selection import train_test_split\n",
    "from sklearn.ensemble import GradientBoostingClassifier\n",
    "from sklearn.metrics import accuracy_score, precision_score, recall_score, f1_score, mean_absolute_error, mean_squared_error, classification_report, confusion_matrix\n",
    "from sklearn.preprocessing import StandardScaler\n",
    "import matplotlib.pyplot as plt\n",
    "import seaborn as sns\n",
    "import warnings\n",
    "\n",
    "sns.set()\n",
    "warnings.filterwarnings('ignore')\n"
   ]
  },
  {
   "cell_type": "code",
   "execution_count": 2,
   "metadata": {
    "colab": {
     "base_uri": "https://localhost:8080/",
     "height": 444
    },
    "id": "72BlDTHFnrhE",
    "outputId": "8a3c8874-0a6c-48b8-e4dc-b3422670336c"
   },
   "outputs": [
    {
     "data": {
      "text/html": [
       "<div>\n",
       "<style scoped>\n",
       "    .dataframe tbody tr th:only-of-type {\n",
       "        vertical-align: middle;\n",
       "    }\n",
       "\n",
       "    .dataframe tbody tr th {\n",
       "        vertical-align: top;\n",
       "    }\n",
       "\n",
       "    .dataframe thead th {\n",
       "        text-align: right;\n",
       "    }\n",
       "</style>\n",
       "<table border=\"1\" class=\"dataframe\">\n",
       "  <thead>\n",
       "    <tr style=\"text-align: right;\">\n",
       "      <th></th>\n",
       "      <th>status</th>\n",
       "      <th>founded_at</th>\n",
       "      <th>investment_rounds</th>\n",
       "      <th>first_funding_at</th>\n",
       "      <th>last_funding_at</th>\n",
       "      <th>funding_rounds</th>\n",
       "      <th>funding_total_usd</th>\n",
       "      <th>first_milestone_at</th>\n",
       "      <th>last_milestone_at</th>\n",
       "      <th>milestones</th>\n",
       "      <th>...</th>\n",
       "      <th>ISR</th>\n",
       "      <th>NLD</th>\n",
       "      <th>RUS</th>\n",
       "      <th>SGP</th>\n",
       "      <th>SWE</th>\n",
       "      <th>USA</th>\n",
       "      <th>other.1</th>\n",
       "      <th>isClosed</th>\n",
       "      <th>Age_in_Days</th>\n",
       "      <th>Age_in_Days.1</th>\n",
       "    </tr>\n",
       "  </thead>\n",
       "  <tbody>\n",
       "    <tr>\n",
       "      <th>0</th>\n",
       "      <td>operating</td>\n",
       "      <td>2005.0</td>\n",
       "      <td>9.010471</td>\n",
       "      <td>2005.0</td>\n",
       "      <td>2008.0</td>\n",
       "      <td>3.0</td>\n",
       "      <td>39750000.0</td>\n",
       "      <td>2010.000000</td>\n",
       "      <td>2013.000000</td>\n",
       "      <td>5.000000</td>\n",
       "      <td>...</td>\n",
       "      <td>False</td>\n",
       "      <td>False</td>\n",
       "      <td>False</td>\n",
       "      <td>False</td>\n",
       "      <td>False</td>\n",
       "      <td>True</td>\n",
       "      <td>False</td>\n",
       "      <td>1.0</td>\n",
       "      <td>6935.0</td>\n",
       "      <td>6935.0</td>\n",
       "    </tr>\n",
       "    <tr>\n",
       "      <th>1</th>\n",
       "      <td>acquired</td>\n",
       "      <td>2007.0</td>\n",
       "      <td>9.010471</td>\n",
       "      <td>2008.0</td>\n",
       "      <td>2008.0</td>\n",
       "      <td>1.0</td>\n",
       "      <td>5000000.0</td>\n",
       "      <td>2008.000000</td>\n",
       "      <td>2012.000000</td>\n",
       "      <td>3.000000</td>\n",
       "      <td>...</td>\n",
       "      <td>False</td>\n",
       "      <td>False</td>\n",
       "      <td>False</td>\n",
       "      <td>False</td>\n",
       "      <td>False</td>\n",
       "      <td>True</td>\n",
       "      <td>False</td>\n",
       "      <td>0.0</td>\n",
       "      <td>0.0</td>\n",
       "      <td>0.0</td>\n",
       "    </tr>\n",
       "    <tr>\n",
       "      <th>2</th>\n",
       "      <td>operating</td>\n",
       "      <td>2007.0</td>\n",
       "      <td>9.010471</td>\n",
       "      <td>2008.0</td>\n",
       "      <td>2013.0</td>\n",
       "      <td>5.0</td>\n",
       "      <td>68069200.0</td>\n",
       "      <td>2010.164879</td>\n",
       "      <td>2011.046642</td>\n",
       "      <td>1.703825</td>\n",
       "      <td>...</td>\n",
       "      <td>False</td>\n",
       "      <td>False</td>\n",
       "      <td>False</td>\n",
       "      <td>False</td>\n",
       "      <td>False</td>\n",
       "      <td>True</td>\n",
       "      <td>False</td>\n",
       "      <td>1.0</td>\n",
       "      <td>6205.0</td>\n",
       "      <td>6205.0</td>\n",
       "    </tr>\n",
       "    <tr>\n",
       "      <th>3</th>\n",
       "      <td>operating</td>\n",
       "      <td>2003.0</td>\n",
       "      <td>9.010471</td>\n",
       "      <td>2011.0</td>\n",
       "      <td>2012.0</td>\n",
       "      <td>3.0</td>\n",
       "      <td>10125293.0</td>\n",
       "      <td>2010.000000</td>\n",
       "      <td>2010.000000</td>\n",
       "      <td>1.000000</td>\n",
       "      <td>...</td>\n",
       "      <td>False</td>\n",
       "      <td>False</td>\n",
       "      <td>False</td>\n",
       "      <td>False</td>\n",
       "      <td>False</td>\n",
       "      <td>True</td>\n",
       "      <td>False</td>\n",
       "      <td>1.0</td>\n",
       "      <td>7665.0</td>\n",
       "      <td>7665.0</td>\n",
       "    </tr>\n",
       "    <tr>\n",
       "      <th>4</th>\n",
       "      <td>operating</td>\n",
       "      <td>2006.0</td>\n",
       "      <td>9.010471</td>\n",
       "      <td>2008.0</td>\n",
       "      <td>2013.0</td>\n",
       "      <td>3.0</td>\n",
       "      <td>33000000.0</td>\n",
       "      <td>2010.000000</td>\n",
       "      <td>2013.000000</td>\n",
       "      <td>3.000000</td>\n",
       "      <td>...</td>\n",
       "      <td>False</td>\n",
       "      <td>False</td>\n",
       "      <td>False</td>\n",
       "      <td>False</td>\n",
       "      <td>False</td>\n",
       "      <td>True</td>\n",
       "      <td>False</td>\n",
       "      <td>1.0</td>\n",
       "      <td>6570.0</td>\n",
       "      <td>6570.0</td>\n",
       "    </tr>\n",
       "    <tr>\n",
       "      <th>...</th>\n",
       "      <td>...</td>\n",
       "      <td>...</td>\n",
       "      <td>...</td>\n",
       "      <td>...</td>\n",
       "      <td>...</td>\n",
       "      <td>...</td>\n",
       "      <td>...</td>\n",
       "      <td>...</td>\n",
       "      <td>...</td>\n",
       "      <td>...</td>\n",
       "      <td>...</td>\n",
       "      <td>...</td>\n",
       "      <td>...</td>\n",
       "      <td>...</td>\n",
       "      <td>...</td>\n",
       "      <td>...</td>\n",
       "      <td>...</td>\n",
       "      <td>...</td>\n",
       "      <td>...</td>\n",
       "      <td>...</td>\n",
       "      <td>...</td>\n",
       "    </tr>\n",
       "    <tr>\n",
       "      <th>20462</th>\n",
       "      <td>closed</td>\n",
       "      <td>2008.0</td>\n",
       "      <td>9.010471</td>\n",
       "      <td>2008.0</td>\n",
       "      <td>2008.0</td>\n",
       "      <td>1.0</td>\n",
       "      <td>130000.0</td>\n",
       "      <td>2008.000000</td>\n",
       "      <td>2009.000000</td>\n",
       "      <td>2.000000</td>\n",
       "      <td>...</td>\n",
       "      <td>False</td>\n",
       "      <td>False</td>\n",
       "      <td>False</td>\n",
       "      <td>False</td>\n",
       "      <td>False</td>\n",
       "      <td>True</td>\n",
       "      <td>False</td>\n",
       "      <td>0.0</td>\n",
       "      <td>0.0</td>\n",
       "      <td>0.0</td>\n",
       "    </tr>\n",
       "    <tr>\n",
       "      <th>20463</th>\n",
       "      <td>operating</td>\n",
       "      <td>2011.0</td>\n",
       "      <td>9.010471</td>\n",
       "      <td>2011.0</td>\n",
       "      <td>2011.0</td>\n",
       "      <td>1.0</td>\n",
       "      <td>500000.0</td>\n",
       "      <td>2011.000000</td>\n",
       "      <td>2011.000000</td>\n",
       "      <td>1.000000</td>\n",
       "      <td>...</td>\n",
       "      <td>False</td>\n",
       "      <td>False</td>\n",
       "      <td>False</td>\n",
       "      <td>False</td>\n",
       "      <td>False</td>\n",
       "      <td>False</td>\n",
       "      <td>False</td>\n",
       "      <td>1.0</td>\n",
       "      <td>4745.0</td>\n",
       "      <td>4745.0</td>\n",
       "    </tr>\n",
       "    <tr>\n",
       "      <th>20464</th>\n",
       "      <td>closed</td>\n",
       "      <td>2006.0</td>\n",
       "      <td>9.010471</td>\n",
       "      <td>2008.0</td>\n",
       "      <td>2009.0</td>\n",
       "      <td>2.0</td>\n",
       "      <td>1100000.0</td>\n",
       "      <td>2005.000000</td>\n",
       "      <td>2008.000000</td>\n",
       "      <td>2.000000</td>\n",
       "      <td>...</td>\n",
       "      <td>False</td>\n",
       "      <td>False</td>\n",
       "      <td>False</td>\n",
       "      <td>False</td>\n",
       "      <td>False</td>\n",
       "      <td>True</td>\n",
       "      <td>False</td>\n",
       "      <td>0.0</td>\n",
       "      <td>0.0</td>\n",
       "      <td>0.0</td>\n",
       "    </tr>\n",
       "    <tr>\n",
       "      <th>20465</th>\n",
       "      <td>operating</td>\n",
       "      <td>2007.0</td>\n",
       "      <td>9.010471</td>\n",
       "      <td>2008.0</td>\n",
       "      <td>2008.0</td>\n",
       "      <td>1.0</td>\n",
       "      <td>750000.0</td>\n",
       "      <td>2013.000000</td>\n",
       "      <td>2013.000000</td>\n",
       "      <td>1.000000</td>\n",
       "      <td>...</td>\n",
       "      <td>False</td>\n",
       "      <td>False</td>\n",
       "      <td>False</td>\n",
       "      <td>False</td>\n",
       "      <td>False</td>\n",
       "      <td>True</td>\n",
       "      <td>False</td>\n",
       "      <td>1.0</td>\n",
       "      <td>6205.0</td>\n",
       "      <td>6205.0</td>\n",
       "    </tr>\n",
       "    <tr>\n",
       "      <th>20466</th>\n",
       "      <td>operating</td>\n",
       "      <td>2007.0</td>\n",
       "      <td>9.010471</td>\n",
       "      <td>2008.0</td>\n",
       "      <td>2008.0</td>\n",
       "      <td>1.0</td>\n",
       "      <td>475000.0</td>\n",
       "      <td>2006.000000</td>\n",
       "      <td>2008.000000</td>\n",
       "      <td>2.000000</td>\n",
       "      <td>...</td>\n",
       "      <td>False</td>\n",
       "      <td>False</td>\n",
       "      <td>False</td>\n",
       "      <td>False</td>\n",
       "      <td>False</td>\n",
       "      <td>True</td>\n",
       "      <td>False</td>\n",
       "      <td>1.0</td>\n",
       "      <td>6205.0</td>\n",
       "      <td>6205.0</td>\n",
       "    </tr>\n",
       "  </tbody>\n",
       "</table>\n",
       "<p>20467 rows × 45 columns</p>\n",
       "</div>"
      ],
      "text/plain": [
       "          status  founded_at  investment_rounds  first_funding_at  \\\n",
       "0      operating      2005.0           9.010471            2005.0   \n",
       "1       acquired      2007.0           9.010471            2008.0   \n",
       "2      operating      2007.0           9.010471            2008.0   \n",
       "3      operating      2003.0           9.010471            2011.0   \n",
       "4      operating      2006.0           9.010471            2008.0   \n",
       "...          ...         ...                ...               ...   \n",
       "20462     closed      2008.0           9.010471            2008.0   \n",
       "20463  operating      2011.0           9.010471            2011.0   \n",
       "20464     closed      2006.0           9.010471            2008.0   \n",
       "20465  operating      2007.0           9.010471            2008.0   \n",
       "20466  operating      2007.0           9.010471            2008.0   \n",
       "\n",
       "       last_funding_at  funding_rounds  funding_total_usd  first_milestone_at  \\\n",
       "0               2008.0             3.0         39750000.0         2010.000000   \n",
       "1               2008.0             1.0          5000000.0         2008.000000   \n",
       "2               2013.0             5.0         68069200.0         2010.164879   \n",
       "3               2012.0             3.0         10125293.0         2010.000000   \n",
       "4               2013.0             3.0         33000000.0         2010.000000   \n",
       "...                ...             ...                ...                 ...   \n",
       "20462           2008.0             1.0           130000.0         2008.000000   \n",
       "20463           2011.0             1.0           500000.0         2011.000000   \n",
       "20464           2009.0             2.0          1100000.0         2005.000000   \n",
       "20465           2008.0             1.0           750000.0         2013.000000   \n",
       "20466           2008.0             1.0           475000.0         2006.000000   \n",
       "\n",
       "       last_milestone_at  milestones  ...    ISR    NLD    RUS    SGP    SWE  \\\n",
       "0            2013.000000    5.000000  ...  False  False  False  False  False   \n",
       "1            2012.000000    3.000000  ...  False  False  False  False  False   \n",
       "2            2011.046642    1.703825  ...  False  False  False  False  False   \n",
       "3            2010.000000    1.000000  ...  False  False  False  False  False   \n",
       "4            2013.000000    3.000000  ...  False  False  False  False  False   \n",
       "...                  ...         ...  ...    ...    ...    ...    ...    ...   \n",
       "20462        2009.000000    2.000000  ...  False  False  False  False  False   \n",
       "20463        2011.000000    1.000000  ...  False  False  False  False  False   \n",
       "20464        2008.000000    2.000000  ...  False  False  False  False  False   \n",
       "20465        2013.000000    1.000000  ...  False  False  False  False  False   \n",
       "20466        2008.000000    2.000000  ...  False  False  False  False  False   \n",
       "\n",
       "         USA  other.1  isClosed  Age_in_Days  Age_in_Days.1  \n",
       "0       True    False       1.0       6935.0         6935.0  \n",
       "1       True    False       0.0          0.0            0.0  \n",
       "2       True    False       1.0       6205.0         6205.0  \n",
       "3       True    False       1.0       7665.0         7665.0  \n",
       "4       True    False       1.0       6570.0         6570.0  \n",
       "...      ...      ...       ...          ...            ...  \n",
       "20462   True    False       0.0          0.0            0.0  \n",
       "20463  False    False       1.0       4745.0         4745.0  \n",
       "20464   True    False       0.0          0.0            0.0  \n",
       "20465   True    False       1.0       6205.0         6205.0  \n",
       "20466   True    False       1.0       6205.0         6205.0  \n",
       "\n",
       "[20467 rows x 45 columns]"
      ]
     },
     "execution_count": 2,
     "metadata": {},
     "output_type": "execute_result"
    }
   ],
   "source": [
    "# Loading the CSV file into a DataFrame\n",
    "df = pd.read_csv('Cleaning data.csv')\n",
    "df"
   ]
  },
  {
   "cell_type": "code",
   "execution_count": 3,
   "metadata": {
    "colab": {
     "base_uri": "https://localhost:8080/"
    },
    "id": "ktgY9vA2n1fY",
    "outputId": "4499c2f7-4b98-4cff-edf7-35b6e73de610"
   },
   "outputs": [
    {
     "name": "stdout",
     "output_type": "stream",
     "text": [
      "<class 'pandas.core.frame.DataFrame'>\n",
      "RangeIndex: 20467 entries, 0 to 20466\n",
      "Data columns (total 45 columns):\n",
      " #   Column              Non-Null Count  Dtype  \n",
      "---  ------              --------------  -----  \n",
      " 0   status              20467 non-null  object \n",
      " 1   founded_at          20467 non-null  float64\n",
      " 2   investment_rounds   20467 non-null  float64\n",
      " 3   first_funding_at    20467 non-null  float64\n",
      " 4   last_funding_at     20467 non-null  float64\n",
      " 5   funding_rounds      20467 non-null  float64\n",
      " 6   funding_total_usd   20467 non-null  float64\n",
      " 7   first_milestone_at  20467 non-null  float64\n",
      " 8   last_milestone_at   20467 non-null  float64\n",
      " 9   milestones          20467 non-null  float64\n",
      " 10  relationships       20467 non-null  float64\n",
      " 11  lat                 20467 non-null  float64\n",
      " 12  lng                 20467 non-null  float64\n",
      " 13  analytics           20467 non-null  bool   \n",
      " 14  biotech             20467 non-null  bool   \n",
      " 15  cleantech           20467 non-null  bool   \n",
      " 16  ecommerce           20467 non-null  bool   \n",
      " 17  enterprise          20467 non-null  bool   \n",
      " 18  games_video         20467 non-null  bool   \n",
      " 19  hardware            20467 non-null  bool   \n",
      " 20  health              20467 non-null  bool   \n",
      " 21  medical             20467 non-null  bool   \n",
      " 22  mobile              20467 non-null  bool   \n",
      " 23  other               20467 non-null  bool   \n",
      " 24  social              20467 non-null  bool   \n",
      " 25  software            20467 non-null  bool   \n",
      " 26  web                 20467 non-null  bool   \n",
      " 27  CAN                 20467 non-null  bool   \n",
      " 28  CHN                 20467 non-null  bool   \n",
      " 29  DEU                 20467 non-null  bool   \n",
      " 30  ESP                 20467 non-null  bool   \n",
      " 31  FRA                 20467 non-null  bool   \n",
      " 32  GBR                 20467 non-null  bool   \n",
      " 33  IND                 20467 non-null  bool   \n",
      " 34  IRL                 20467 non-null  bool   \n",
      " 35  ISR                 20467 non-null  bool   \n",
      " 36  NLD                 20467 non-null  bool   \n",
      " 37  RUS                 20467 non-null  bool   \n",
      " 38  SGP                 20467 non-null  bool   \n",
      " 39  SWE                 20467 non-null  bool   \n",
      " 40  USA                 20467 non-null  bool   \n",
      " 41  other.1             20467 non-null  bool   \n",
      " 42  isClosed            20467 non-null  float64\n",
      " 43  Age_in_Days         20467 non-null  float64\n",
      " 44  Age_in_Days.1       20467 non-null  float64\n",
      "dtypes: bool(29), float64(15), object(1)\n",
      "memory usage: 3.1+ MB\n"
     ]
    }
   ],
   "source": [
    "df.info()"
   ]
  },
  {
   "cell_type": "code",
   "execution_count": 4,
   "metadata": {
    "colab": {
     "base_uri": "https://localhost:8080/"
    },
    "id": "vZKs_efun9HO",
    "outputId": "0314c886-e25d-4ca1-d8c2-5f48a2aa6dc3"
   },
   "outputs": [
    {
     "data": {
      "text/plain": [
       "Index(['status', 'founded_at', 'investment_rounds', 'first_funding_at',\n",
       "       'last_funding_at', 'funding_rounds', 'funding_total_usd',\n",
       "       'first_milestone_at', 'last_milestone_at', 'milestones',\n",
       "       'relationships', 'lat', 'lng', 'isClosed', 'Age_in_Days',\n",
       "       'Age_in_Days.1'],\n",
       "      dtype='object')"
      ]
     },
     "execution_count": 4,
     "metadata": {},
     "output_type": "execute_result"
    }
   ],
   "source": [
    "columns_target = df.select_dtypes(['float64','object'])\n",
    "columns_target.columns"
   ]
  },
  {
   "cell_type": "code",
   "execution_count": 5,
   "metadata": {
    "colab": {
     "base_uri": "https://localhost:8080/"
    },
    "id": "n0IERx2goHGW",
    "outputId": "316d50ac-8f5f-45f8-d352-d85dff8322a8"
   },
   "outputs": [
    {
     "data": {
      "text/plain": [
       "['founded_at',\n",
       " 'investment_rounds',\n",
       " 'first_funding_at',\n",
       " 'last_funding_at',\n",
       " 'funding_rounds',\n",
       " 'funding_total_usd',\n",
       " 'first_milestone_at',\n",
       " 'last_milestone_at',\n",
       " 'milestones',\n",
       " 'relationships',\n",
       " 'lat',\n",
       " 'lng',\n",
       " 'isClosed',\n",
       " 'Age_in_Days',\n",
       " 'Age_in_Days.1']"
      ]
     },
     "execution_count": 5,
     "metadata": {},
     "output_type": "execute_result"
    }
   ],
   "source": [
    "#Making Independent Features\n",
    "train_features = columns_target.columns.tolist()\n",
    "del train_features[0]\n",
    "train_features"
   ]
  },
  {
   "cell_type": "code",
   "execution_count": 6,
   "metadata": {
    "colab": {
     "base_uri": "https://localhost:8080/"
    },
    "id": "hmquom4coxTA",
    "outputId": "25ba8fb9-8f55-4967-f9e0-72de92bdf65c"
   },
   "outputs": [
    {
     "data": {
      "text/plain": [
       "['founded_at',\n",
       " 'investment_rounds',\n",
       " 'first_funding_at',\n",
       " 'last_funding_at',\n",
       " 'funding_rounds',\n",
       " 'funding_total_usd',\n",
       " 'first_milestone_at',\n",
       " 'last_milestone_at',\n",
       " 'milestones',\n",
       " 'relationships',\n",
       " 'lat',\n",
       " 'lng',\n",
       " 'Age_in_Days',\n",
       " 'Age_in_Days.1']"
      ]
     },
     "execution_count": 6,
     "metadata": {},
     "output_type": "execute_result"
    }
   ],
   "source": [
    "#Eliminating 'status' as it relates to 'isClosed'\n",
    "del train_features[12]\n",
    "train_features"
   ]
  },
  {
   "cell_type": "code",
   "execution_count": 7,
   "metadata": {
    "colab": {
     "base_uri": "https://localhost:8080/"
    },
    "id": "F__uuMj5pIq9",
    "outputId": "c3cf2df3-05ec-41eb-d3a6-113799db2c6b"
   },
   "outputs": [
    {
     "data": {
      "text/plain": [
       "['founded_at',\n",
       " 'investment_rounds',\n",
       " 'first_funding_at',\n",
       " 'last_funding_at',\n",
       " 'funding_rounds',\n",
       " 'funding_total_usd',\n",
       " 'first_milestone_at',\n",
       " 'last_milestone_at',\n",
       " 'milestones',\n",
       " 'relationships',\n",
       " 'lat',\n",
       " 'lng',\n",
       " 'Age_in_Days']"
      ]
     },
     "execution_count": 7,
     "metadata": {},
     "output_type": "execute_result"
    }
   ],
   "source": [
    "#Eliminating 'Age_in_Days.1' as it is just the replication of 'Age_in_Days'\n",
    "del train_features[13]\n",
    "train_features"
   ]
  },
  {
   "cell_type": "code",
   "execution_count": 8,
   "metadata": {
    "colab": {
     "base_uri": "https://localhost:8080/"
    },
    "id": "UkawxV3RpPBo",
    "outputId": "7b39fc63-35c4-469f-cbba-65fde3e2bbbb"
   },
   "outputs": [
    {
     "data": {
      "text/plain": [
       "['investment_rounds',\n",
       " 'first_funding_at',\n",
       " 'last_funding_at',\n",
       " 'funding_rounds',\n",
       " 'funding_total_usd',\n",
       " 'first_milestone_at',\n",
       " 'last_milestone_at',\n",
       " 'milestones',\n",
       " 'relationships',\n",
       " 'lat',\n",
       " 'lng',\n",
       " 'Age_in_Days']"
      ]
     },
     "execution_count": 8,
     "metadata": {},
     "output_type": "execute_result"
    }
   ],
   "source": [
    "#Eliminating 'founded_at' as it relates to 'Age_in_Days'\n",
    "del train_features[0]\n",
    "train_features"
   ]
  },
  {
   "cell_type": "code",
   "execution_count": 9,
   "metadata": {
    "id": "2Kte6mBnpRJI"
   },
   "outputs": [],
   "source": [
    "X = df[train_features]\n",
    "y = df['status']"
   ]
  },
  {
   "cell_type": "code",
   "execution_count": 10,
   "metadata": {},
   "outputs": [],
   "source": [
    "# Encode the target variable\n",
    "le = LabelEncoder()\n",
    "y = le.fit_transform(y)"
   ]
  },
  {
   "cell_type": "code",
   "execution_count": 11,
   "metadata": {
    "id": "J1fQ-idI6H4R"
   },
   "outputs": [],
   "source": [
    "# Splitting the data into training and testing sets\n",
    "X_train, X_test, y_train, y_test = train_test_split(X, y, test_size=0.2, random_state=42)\n",
    "\n",
    "# Scale the features\n",
    "scaler = StandardScaler()\n",
    "X_train_scaled = scaler.fit_transform(X_train)\n",
    "X_test_scaled = scaler.transform(X_test)"
   ]
  },
  {
   "cell_type": "code",
   "execution_count": 12,
   "metadata": {},
   "outputs": [],
   "source": [
    "# Initializing the Gradient Boosting Classifier\n",
    "gb_clf = GradientBoostingClassifier(n_estimators=100, learning_rate=0.1, max_depth=3, random_state=42)\n"
   ]
  },
  {
   "cell_type": "code",
   "execution_count": 13,
   "metadata": {},
   "outputs": [
    {
     "data": {
      "text/html": [
       "<style>#sk-container-id-1 {color: black;background-color: white;}#sk-container-id-1 pre{padding: 0;}#sk-container-id-1 div.sk-toggleable {background-color: white;}#sk-container-id-1 label.sk-toggleable__label {cursor: pointer;display: block;width: 100%;margin-bottom: 0;padding: 0.3em;box-sizing: border-box;text-align: center;}#sk-container-id-1 label.sk-toggleable__label-arrow:before {content: \"▸\";float: left;margin-right: 0.25em;color: #696969;}#sk-container-id-1 label.sk-toggleable__label-arrow:hover:before {color: black;}#sk-container-id-1 div.sk-estimator:hover label.sk-toggleable__label-arrow:before {color: black;}#sk-container-id-1 div.sk-toggleable__content {max-height: 0;max-width: 0;overflow: hidden;text-align: left;background-color: #f0f8ff;}#sk-container-id-1 div.sk-toggleable__content pre {margin: 0.2em;color: black;border-radius: 0.25em;background-color: #f0f8ff;}#sk-container-id-1 input.sk-toggleable__control:checked~div.sk-toggleable__content {max-height: 200px;max-width: 100%;overflow: auto;}#sk-container-id-1 input.sk-toggleable__control:checked~label.sk-toggleable__label-arrow:before {content: \"▾\";}#sk-container-id-1 div.sk-estimator input.sk-toggleable__control:checked~label.sk-toggleable__label {background-color: #d4ebff;}#sk-container-id-1 div.sk-label input.sk-toggleable__control:checked~label.sk-toggleable__label {background-color: #d4ebff;}#sk-container-id-1 input.sk-hidden--visually {border: 0;clip: rect(1px 1px 1px 1px);clip: rect(1px, 1px, 1px, 1px);height: 1px;margin: -1px;overflow: hidden;padding: 0;position: absolute;width: 1px;}#sk-container-id-1 div.sk-estimator {font-family: monospace;background-color: #f0f8ff;border: 1px dotted black;border-radius: 0.25em;box-sizing: border-box;margin-bottom: 0.5em;}#sk-container-id-1 div.sk-estimator:hover {background-color: #d4ebff;}#sk-container-id-1 div.sk-parallel-item::after {content: \"\";width: 100%;border-bottom: 1px solid gray;flex-grow: 1;}#sk-container-id-1 div.sk-label:hover label.sk-toggleable__label {background-color: #d4ebff;}#sk-container-id-1 div.sk-serial::before {content: \"\";position: absolute;border-left: 1px solid gray;box-sizing: border-box;top: 0;bottom: 0;left: 50%;z-index: 0;}#sk-container-id-1 div.sk-serial {display: flex;flex-direction: column;align-items: center;background-color: white;padding-right: 0.2em;padding-left: 0.2em;position: relative;}#sk-container-id-1 div.sk-item {position: relative;z-index: 1;}#sk-container-id-1 div.sk-parallel {display: flex;align-items: stretch;justify-content: center;background-color: white;position: relative;}#sk-container-id-1 div.sk-item::before, #sk-container-id-1 div.sk-parallel-item::before {content: \"\";position: absolute;border-left: 1px solid gray;box-sizing: border-box;top: 0;bottom: 0;left: 50%;z-index: -1;}#sk-container-id-1 div.sk-parallel-item {display: flex;flex-direction: column;z-index: 1;position: relative;background-color: white;}#sk-container-id-1 div.sk-parallel-item:first-child::after {align-self: flex-end;width: 50%;}#sk-container-id-1 div.sk-parallel-item:last-child::after {align-self: flex-start;width: 50%;}#sk-container-id-1 div.sk-parallel-item:only-child::after {width: 0;}#sk-container-id-1 div.sk-dashed-wrapped {border: 1px dashed gray;margin: 0 0.4em 0.5em 0.4em;box-sizing: border-box;padding-bottom: 0.4em;background-color: white;}#sk-container-id-1 div.sk-label label {font-family: monospace;font-weight: bold;display: inline-block;line-height: 1.2em;}#sk-container-id-1 div.sk-label-container {text-align: center;}#sk-container-id-1 div.sk-container {/* jupyter's `normalize.less` sets `[hidden] { display: none; }` but bootstrap.min.css set `[hidden] { display: none !important; }` so we also need the `!important` here to be able to override the default hidden behavior on the sphinx rendered scikit-learn.org. See: https://github.com/scikit-learn/scikit-learn/issues/21755 */display: inline-block !important;position: relative;}#sk-container-id-1 div.sk-text-repr-fallback {display: none;}</style><div id=\"sk-container-id-1\" class=\"sk-top-container\"><div class=\"sk-text-repr-fallback\"><pre>GradientBoostingClassifier(random_state=42)</pre><b>In a Jupyter environment, please rerun this cell to show the HTML representation or trust the notebook. <br />On GitHub, the HTML representation is unable to render, please try loading this page with nbviewer.org.</b></div><div class=\"sk-container\" hidden><div class=\"sk-item\"><div class=\"sk-estimator sk-toggleable\"><input class=\"sk-toggleable__control sk-hidden--visually\" id=\"sk-estimator-id-1\" type=\"checkbox\" checked><label for=\"sk-estimator-id-1\" class=\"sk-toggleable__label sk-toggleable__label-arrow\">GradientBoostingClassifier</label><div class=\"sk-toggleable__content\"><pre>GradientBoostingClassifier(random_state=42)</pre></div></div></div></div></div>"
      ],
      "text/plain": [
       "GradientBoostingClassifier(random_state=42)"
      ]
     },
     "execution_count": 13,
     "metadata": {},
     "output_type": "execute_result"
    }
   ],
   "source": [
    "# Training the model\n",
    "gb_clf.fit(X_train_scaled, y_train)"
   ]
  },
  {
   "cell_type": "code",
   "execution_count": 14,
   "metadata": {},
   "outputs": [],
   "source": [
    "# Predicting on the test set\n",
    "y_pred = gb_clf.predict(X_test_scaled)"
   ]
  },
  {
   "cell_type": "code",
   "execution_count": 15,
   "metadata": {},
   "outputs": [],
   "source": [
    "# Calculating the scores on test set\n",
    "\n",
    "test_accuracy = accuracy_score(y_test, y_pred)\n",
    "train_accuracy = accuracy_score(y_train, gb_clf.predict(X_train_scaled))\n",
    "precision = precision_score(y_test, y_pred, average='weighted')\n",
    "recall = recall_score(y_test, y_pred, average='weighted')\n",
    "f1 = f1_score(y_test, y_pred, average='weighted')\n",
    "mae = mean_absolute_error(y_test, y_pred)\n",
    "mse = mean_squared_error(y_test, y_pred)\n"
   ]
  },
  {
   "cell_type": "code",
   "execution_count": 16,
   "metadata": {},
   "outputs": [],
   "source": [
    "import itertools\n",
    "\n",
    "def plot_confusion_matrix(cm, classes,\n",
    "                          normalize=False,\n",
    "                          title='Confusion matrix',\n",
    "                          cmap=plt.cm.Reds):\n",
    "    \"\"\"\n",
    "    This function plots the confusion matrix.\n",
    "    \n",
    "    Parameters:\n",
    "        cm (array-like): Confusion matrix.\n",
    "        classes (list): List of class labels.\n",
    "        normalize (bool): Whether to normalize the confusion matrix or not.\n",
    "        title (str): Title of the plot.\n",
    "        cmap (matplotlib.colors.Colormap): Colormap used for visualization.\n",
    "    \"\"\"\n",
    "    # Plotting the confusion matrix\n",
    "    plt.imshow(cm, interpolation='nearest', cmap=cmap)\n",
    "    plt.title(title)\n",
    "    plt.colorbar()\n",
    "    plt.xticks(range(cm.shape[0]))\n",
    "    plt.yticks(range(cm.shape[1]))\n",
    "\n",
    "    # Normalizing the confusion matrix if required\n",
    "    if normalize:\n",
    "        cm = cm.astype('float') / cm.sum(axis=1)[:, np.newaxis]\n",
    "        cm = cm.round(2)\n",
    "    else:\n",
    "        cm = cm\n",
    "\n",
    "    # Setting threshold for text color\n",
    "    thresh = cm.max() / 2.\n",
    "    \n",
    "    # Adding text annotations to the plot\n",
    "    for i, j in itertools.product(range(cm.shape[0]), range(cm.shape[1])):\n",
    "        plt.text(j, i, cm[i, j],\n",
    "                 horizontalalignment=\"center\",\n",
    "                 color=\"white\" if cm[i, j] > thresh else \"black\")\n",
    "\n",
    "    # Formatting the plot\n",
    "    plt.tight_layout()\n",
    "    plt.ylabel('True label')\n",
    "    plt.xlabel('Predicted label')\n"
   ]
  },
  {
   "cell_type": "code",
   "execution_count": 17,
   "metadata": {},
   "outputs": [
    {
     "name": "stdout",
     "output_type": "stream",
     "text": [
      "Test Accuracy: 0.95847581827064\n",
      "Train Accuracy: 0.9612166371465217\n",
      "Precision: 0.9544098909175113\n",
      "Recall: 0.95847581827064\n",
      "F1-score: 0.9550642073015492\n",
      "Mean Absolute Error: 0.04152418172936004\n",
      "Mean Squared Error: 0.04152418172936004\n"
     ]
    }
   ],
   "source": [
    "print(\"Test Accuracy:\", test_accuracy)\n",
    "print(\"Train Accuracy:\", train_accuracy)\n",
    "print(\"Precision:\", precision)\n",
    "print(\"Recall:\", recall)\n",
    "print(\"F1-score:\", f1)\n",
    "print(\"Mean Absolute Error:\", mae)\n",
    "print(\"Mean Squared Error:\", mse)"
   ]
  },
  {
   "cell_type": "code",
   "execution_count": 18,
   "metadata": {},
   "outputs": [
    {
     "name": "stdout",
     "output_type": "stream",
     "text": [
      "\n",
      "Classification Report:\n",
      "              precision    recall  f1-score   support\n",
      "\n",
      "           0       0.79      0.90      0.84       337\n",
      "           1       0.82      0.66      0.73       230\n",
      "           2       0.39      0.17      0.24        53\n",
      "           3       0.99      1.00      0.99      3474\n",
      "\n",
      "    accuracy                           0.96      4094\n",
      "   macro avg       0.75      0.68      0.70      4094\n",
      "weighted avg       0.95      0.96      0.96      4094\n",
      "\n"
     ]
    }
   ],
   "source": [
    "# Classification Report\n",
    "print(\"\\nClassification Report:\")\n",
    "print(classification_report(y_test, y_pred))\n"
   ]
  },
  {
   "cell_type": "code",
   "execution_count": 19,
   "metadata": {},
   "outputs": [
    {
     "name": "stdout",
     "output_type": "stream",
     "text": [
      "Confusion Matrix:\n"
     ]
    },
    {
     "data": {
      "image/png": "[encoded data removed]",
      "text/plain": [
       "<Figure size 700x600 with 2 Axes>"
      ]
     },
     "metadata": {},
     "output_type": "display_data"
    }
   ],
   "source": [
    "print(\"Confusion Matrix:\")\n",
    "conf_mat = confusion_matrix(y_test, y_pred)\n",
    "np.set_printoptions(precision=2)\n",
    "fig1 = plt.figure(figsize=(7, 6))\n",
    "plot_confusion_matrix(conf_mat, classes=np.unique(y_train), title='Confusion matrix')"
   ]
  },
  {
   "cell_type": "code",
   "execution_count": 20,
   "metadata": {},
   "outputs": [
    {
     "data": {
      "text/html": [
       "<div>\n",
       "<style scoped>\n",
       "    .dataframe tbody tr th:only-of-type {\n",
       "        vertical-align: middle;\n",
       "    }\n",
       "\n",
       "    .dataframe tbody tr th {\n",
       "        vertical-align: top;\n",
       "    }\n",
       "\n",
       "    .dataframe thead th {\n",
       "        text-align: right;\n",
       "    }\n",
       "</style>\n",
       "<table border=\"1\" class=\"dataframe\">\n",
       "  <thead>\n",
       "    <tr style=\"text-align: right;\">\n",
       "      <th></th>\n",
       "      <th>test accuracy</th>\n",
       "      <th>train accuarcy</th>\n",
       "      <th>precision score</th>\n",
       "      <th>recall score</th>\n",
       "      <th>mse</th>\n",
       "      <th>mae</th>\n",
       "      <th>F_1 score</th>\n",
       "    </tr>\n",
       "  </thead>\n",
       "  <tbody>\n",
       "    <tr>\n",
       "      <th>GB_normal</th>\n",
       "      <td>0.958476</td>\n",
       "      <td>0.961217</td>\n",
       "      <td>0.95441</td>\n",
       "      <td>0.958476</td>\n",
       "      <td>0.041524</td>\n",
       "      <td>0.041524</td>\n",
       "      <td>0.955064</td>\n",
       "    </tr>\n",
       "  </tbody>\n",
       "</table>\n",
       "</div>"
      ],
      "text/plain": [
       "           test accuracy  train accuarcy  precision score  recall score  \\\n",
       "GB_normal       0.958476        0.961217          0.95441      0.958476   \n",
       "\n",
       "                mse       mae  F_1 score  \n",
       "GB_normal  0.041524  0.041524   0.955064  "
      ]
     },
     "execution_count": 20,
     "metadata": {},
     "output_type": "execute_result"
    }
   ],
   "source": [
    "# Creating a DataFrame to store the evaluation metrics\n",
    "model_result = pd.DataFrame({\n",
    "    'test accuracy': test_accuracy,\n",
    "    'train accuarcy': train_accuracy,\n",
    "    'precision score': precision,\n",
    "    'recall score': recall,\n",
    "    'mse': mse,\n",
    "    'mae': mae,\n",
    "    'F_1 score': f1\n",
    "}, index=['GB_normal'])\n",
    "\n",
    "model_result"
   ]
  },
  {
   "cell_type": "code",
   "execution_count": null,
   "metadata": {},
   "outputs": [],
   "source": []
  }
 ],
 "metadata": {
  "colab": {
   "provenance": []
  },
  "kernelspec": {
   "display_name": "Python 3 (ipykernel)",
   "language": "python",
   "name": "python3"
  },
  "language_info": {
   "codemirror_mode": {
    "name": "ipython",
    "version": 3
   },
   "file_extension": ".py",
   "mimetype": "text/x-python",
   "name": "python",
   "nbconvert_exporter": "python",
   "pygments_lexer": "ipython3",
   "version": "3.11.8"
  }
 },
 "nbformat": 4,
 "nbformat_minor": 4
}

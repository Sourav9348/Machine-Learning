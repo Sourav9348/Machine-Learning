{
 "cells": [
  {
   "cell_type": "code",
   "execution_count": 1,
   "metadata": {
    "id": "x_WgpfMXnD3X"
   },
   "outputs": [],
   "source": [
    "import pandas as pd\n",
    "from sklearn.model_selection import train_test_split\n",
    "from xgboost import XGBClassifier\n",
    "from sklearn.metrics import confusion_matrix\n",
    "import seaborn as sns\n",
    "import matplotlib.pyplot as plt\n",
    "import numpy as np\n",
    "from sklearn.preprocessing import StandardScaler\n",
    "from imblearn.over_sampling import SMOTE\n",
    "from sklearn.metrics import accuracy_score, precision_score, recall_score, f1_score, roc_auc_score, roc_curve\n",
    "import warnings\n",
    "\n",
    "sns.set()\n",
    "warnings.filterwarnings('ignore')\n"
   ]
  },
  {
   "cell_type": "code",
   "execution_count": 2,
   "metadata": {
    "colab": {
     "base_uri": "https://localhost:8080/",
     "height": 444
    },
    "id": "72BlDTHFnrhE",
    "outputId": "8a3c8874-0a6c-48b8-e4dc-b3422670336c"
   },
   "outputs": [
    {
     "data": {
      "text/html": [
       "<div>\n",
       "<style scoped>\n",
       "    .dataframe tbody tr th:only-of-type {\n",
       "        vertical-align: middle;\n",
       "    }\n",
       "\n",
       "    .dataframe tbody tr th {\n",
       "        vertical-align: top;\n",
       "    }\n",
       "\n",
       "    .dataframe thead th {\n",
       "        text-align: right;\n",
       "    }\n",
       "</style>\n",
       "<table border=\"1\" class=\"dataframe\">\n",
       "  <thead>\n",
       "    <tr style=\"text-align: right;\">\n",
       "      <th></th>\n",
       "      <th>status</th>\n",
       "      <th>founded_at</th>\n",
       "      <th>investment_rounds</th>\n",
       "      <th>first_funding_at</th>\n",
       "      <th>last_funding_at</th>\n",
       "      <th>funding_rounds</th>\n",
       "      <th>funding_total_usd</th>\n",
       "      <th>first_milestone_at</th>\n",
       "      <th>last_milestone_at</th>\n",
       "      <th>milestones</th>\n",
       "      <th>...</th>\n",
       "      <th>ISR</th>\n",
       "      <th>NLD</th>\n",
       "      <th>RUS</th>\n",
       "      <th>SGP</th>\n",
       "      <th>SWE</th>\n",
       "      <th>USA</th>\n",
       "      <th>other.1</th>\n",
       "      <th>isClosed</th>\n",
       "      <th>Age_in_Days</th>\n",
       "      <th>Age_in_Days.1</th>\n",
       "    </tr>\n",
       "  </thead>\n",
       "  <tbody>\n",
       "    <tr>\n",
       "      <th>0</th>\n",
       "      <td>operating</td>\n",
       "      <td>2005.0</td>\n",
       "      <td>9.010471</td>\n",
       "      <td>2005.0</td>\n",
       "      <td>2008.0</td>\n",
       "      <td>3.0</td>\n",
       "      <td>39750000.0</td>\n",
       "      <td>2010.000000</td>\n",
       "      <td>2013.000000</td>\n",
       "      <td>5.000000</td>\n",
       "      <td>...</td>\n",
       "      <td>False</td>\n",
       "      <td>False</td>\n",
       "      <td>False</td>\n",
       "      <td>False</td>\n",
       "      <td>False</td>\n",
       "      <td>True</td>\n",
       "      <td>False</td>\n",
       "      <td>1.0</td>\n",
       "      <td>6935.0</td>\n",
       "      <td>6935.0</td>\n",
       "    </tr>\n",
       "    <tr>\n",
       "      <th>1</th>\n",
       "      <td>acquired</td>\n",
       "      <td>2007.0</td>\n",
       "      <td>9.010471</td>\n",
       "      <td>2008.0</td>\n",
       "      <td>2008.0</td>\n",
       "      <td>1.0</td>\n",
       "      <td>5000000.0</td>\n",
       "      <td>2008.000000</td>\n",
       "      <td>2012.000000</td>\n",
       "      <td>3.000000</td>\n",
       "      <td>...</td>\n",
       "      <td>False</td>\n",
       "      <td>False</td>\n",
       "      <td>False</td>\n",
       "      <td>False</td>\n",
       "      <td>False</td>\n",
       "      <td>True</td>\n",
       "      <td>False</td>\n",
       "      <td>0.0</td>\n",
       "      <td>0.0</td>\n",
       "      <td>0.0</td>\n",
       "    </tr>\n",
       "    <tr>\n",
       "      <th>2</th>\n",
       "      <td>operating</td>\n",
       "      <td>2007.0</td>\n",
       "      <td>9.010471</td>\n",
       "      <td>2008.0</td>\n",
       "      <td>2013.0</td>\n",
       "      <td>5.0</td>\n",
       "      <td>68069200.0</td>\n",
       "      <td>2010.164879</td>\n",
       "      <td>2011.046642</td>\n",
       "      <td>1.703825</td>\n",
       "      <td>...</td>\n",
       "      <td>False</td>\n",
       "      <td>False</td>\n",
       "      <td>False</td>\n",
       "      <td>False</td>\n",
       "      <td>False</td>\n",
       "      <td>True</td>\n",
       "      <td>False</td>\n",
       "      <td>1.0</td>\n",
       "      <td>6205.0</td>\n",
       "      <td>6205.0</td>\n",
       "    </tr>\n",
       "    <tr>\n",
       "      <th>3</th>\n",
       "      <td>operating</td>\n",
       "      <td>2003.0</td>\n",
       "      <td>9.010471</td>\n",
       "      <td>2011.0</td>\n",
       "      <td>2012.0</td>\n",
       "      <td>3.0</td>\n",
       "      <td>10125293.0</td>\n",
       "      <td>2010.000000</td>\n",
       "      <td>2010.000000</td>\n",
       "      <td>1.000000</td>\n",
       "      <td>...</td>\n",
       "      <td>False</td>\n",
       "      <td>False</td>\n",
       "      <td>False</td>\n",
       "      <td>False</td>\n",
       "      <td>False</td>\n",
       "      <td>True</td>\n",
       "      <td>False</td>\n",
       "      <td>1.0</td>\n",
       "      <td>7665.0</td>\n",
       "      <td>7665.0</td>\n",
       "    </tr>\n",
       "    <tr>\n",
       "      <th>4</th>\n",
       "      <td>operating</td>\n",
       "      <td>2006.0</td>\n",
       "      <td>9.010471</td>\n",
       "      <td>2008.0</td>\n",
       "      <td>2013.0</td>\n",
       "      <td>3.0</td>\n",
       "      <td>33000000.0</td>\n",
       "      <td>2010.000000</td>\n",
       "      <td>2013.000000</td>\n",
       "      <td>3.000000</td>\n",
       "      <td>...</td>\n",
       "      <td>False</td>\n",
       "      <td>False</td>\n",
       "      <td>False</td>\n",
       "      <td>False</td>\n",
       "      <td>False</td>\n",
       "      <td>True</td>\n",
       "      <td>False</td>\n",
       "      <td>1.0</td>\n",
       "      <td>6570.0</td>\n",
       "      <td>6570.0</td>\n",
       "    </tr>\n",
       "    <tr>\n",
       "      <th>...</th>\n",
       "      <td>...</td>\n",
       "      <td>...</td>\n",
       "      <td>...</td>\n",
       "      <td>...</td>\n",
       "      <td>...</td>\n",
       "      <td>...</td>\n",
       "      <td>...</td>\n",
       "      <td>...</td>\n",
       "      <td>...</td>\n",
       "      <td>...</td>\n",
       "      <td>...</td>\n",
       "      <td>...</td>\n",
       "      <td>...</td>\n",
       "      <td>...</td>\n",
       "      <td>...</td>\n",
       "      <td>...</td>\n",
       "      <td>...</td>\n",
       "      <td>...</td>\n",
       "      <td>...</td>\n",
       "      <td>...</td>\n",
       "      <td>...</td>\n",
       "    </tr>\n",
       "    <tr>\n",
       "      <th>20462</th>\n",
       "      <td>closed</td>\n",
       "      <td>2008.0</td>\n",
       "      <td>9.010471</td>\n",
       "      <td>2008.0</td>\n",
       "      <td>2008.0</td>\n",
       "      <td>1.0</td>\n",
       "      <td>130000.0</td>\n",
       "      <td>2008.000000</td>\n",
       "      <td>2009.000000</td>\n",
       "      <td>2.000000</td>\n",
       "      <td>...</td>\n",
       "      <td>False</td>\n",
       "      <td>False</td>\n",
       "      <td>False</td>\n",
       "      <td>False</td>\n",
       "      <td>False</td>\n",
       "      <td>True</td>\n",
       "      <td>False</td>\n",
       "      <td>0.0</td>\n",
       "      <td>0.0</td>\n",
       "      <td>0.0</td>\n",
       "    </tr>\n",
       "    <tr>\n",
       "      <th>20463</th>\n",
       "      <td>operating</td>\n",
       "      <td>2011.0</td>\n",
       "      <td>9.010471</td>\n",
       "      <td>2011.0</td>\n",
       "      <td>2011.0</td>\n",
       "      <td>1.0</td>\n",
       "      <td>500000.0</td>\n",
       "      <td>2011.000000</td>\n",
       "      <td>2011.000000</td>\n",
       "      <td>1.000000</td>\n",
       "      <td>...</td>\n",
       "      <td>False</td>\n",
       "      <td>False</td>\n",
       "      <td>False</td>\n",
       "      <td>False</td>\n",
       "      <td>False</td>\n",
       "      <td>False</td>\n",
       "      <td>False</td>\n",
       "      <td>1.0</td>\n",
       "      <td>4745.0</td>\n",
       "      <td>4745.0</td>\n",
       "    </tr>\n",
       "    <tr>\n",
       "      <th>20464</th>\n",
       "      <td>closed</td>\n",
       "      <td>2006.0</td>\n",
       "      <td>9.010471</td>\n",
       "      <td>2008.0</td>\n",
       "      <td>2009.0</td>\n",
       "      <td>2.0</td>\n",
       "      <td>1100000.0</td>\n",
       "      <td>2005.000000</td>\n",
       "      <td>2008.000000</td>\n",
       "      <td>2.000000</td>\n",
       "      <td>...</td>\n",
       "      <td>False</td>\n",
       "      <td>False</td>\n",
       "      <td>False</td>\n",
       "      <td>False</td>\n",
       "      <td>False</td>\n",
       "      <td>True</td>\n",
       "      <td>False</td>\n",
       "      <td>0.0</td>\n",
       "      <td>0.0</td>\n",
       "      <td>0.0</td>\n",
       "    </tr>\n",
       "    <tr>\n",
       "      <th>20465</th>\n",
       "      <td>operating</td>\n",
       "      <td>2007.0</td>\n",
       "      <td>9.010471</td>\n",
       "      <td>2008.0</td>\n",
       "      <td>2008.0</td>\n",
       "      <td>1.0</td>\n",
       "      <td>750000.0</td>\n",
       "      <td>2013.000000</td>\n",
       "      <td>2013.000000</td>\n",
       "      <td>1.000000</td>\n",
       "      <td>...</td>\n",
       "      <td>False</td>\n",
       "      <td>False</td>\n",
       "      <td>False</td>\n",
       "      <td>False</td>\n",
       "      <td>False</td>\n",
       "      <td>True</td>\n",
       "      <td>False</td>\n",
       "      <td>1.0</td>\n",
       "      <td>6205.0</td>\n",
       "      <td>6205.0</td>\n",
       "    </tr>\n",
       "    <tr>\n",
       "      <th>20466</th>\n",
       "      <td>operating</td>\n",
       "      <td>2007.0</td>\n",
       "      <td>9.010471</td>\n",
       "      <td>2008.0</td>\n",
       "      <td>2008.0</td>\n",
       "      <td>1.0</td>\n",
       "      <td>475000.0</td>\n",
       "      <td>2006.000000</td>\n",
       "      <td>2008.000000</td>\n",
       "      <td>2.000000</td>\n",
       "      <td>...</td>\n",
       "      <td>False</td>\n",
       "      <td>False</td>\n",
       "      <td>False</td>\n",
       "      <td>False</td>\n",
       "      <td>False</td>\n",
       "      <td>True</td>\n",
       "      <td>False</td>\n",
       "      <td>1.0</td>\n",
       "      <td>6205.0</td>\n",
       "      <td>6205.0</td>\n",
       "    </tr>\n",
       "  </tbody>\n",
       "</table>\n",
       "<p>20467 rows × 45 columns</p>\n",
       "</div>"
      ],
      "text/plain": [
       "          status  founded_at  investment_rounds  first_funding_at  \\\n",
       "0      operating      2005.0           9.010471            2005.0   \n",
       "1       acquired      2007.0           9.010471            2008.0   \n",
       "2      operating      2007.0           9.010471            2008.0   \n",
       "3      operating      2003.0           9.010471            2011.0   \n",
       "4      operating      2006.0           9.010471            2008.0   \n",
       "...          ...         ...                ...               ...   \n",
       "20462     closed      2008.0           9.010471            2008.0   \n",
       "20463  operating      2011.0           9.010471            2011.0   \n",
       "20464     closed      2006.0           9.010471            2008.0   \n",
       "20465  operating      2007.0           9.010471            2008.0   \n",
       "20466  operating      2007.0           9.010471            2008.0   \n",
       "\n",
       "       last_funding_at  funding_rounds  funding_total_usd  first_milestone_at  \\\n",
       "0               2008.0             3.0         39750000.0         2010.000000   \n",
       "1               2008.0             1.0          5000000.0         2008.000000   \n",
       "2               2013.0             5.0         68069200.0         2010.164879   \n",
       "3               2012.0             3.0         10125293.0         2010.000000   \n",
       "4               2013.0             3.0         33000000.0         2010.000000   \n",
       "...                ...             ...                ...                 ...   \n",
       "20462           2008.0             1.0           130000.0         2008.000000   \n",
       "20463           2011.0             1.0           500000.0         2011.000000   \n",
       "20464           2009.0             2.0          1100000.0         2005.000000   \n",
       "20465           2008.0             1.0           750000.0         2013.000000   \n",
       "20466           2008.0             1.0           475000.0         2006.000000   \n",
       "\n",
       "       last_milestone_at  milestones  ...    ISR    NLD    RUS    SGP    SWE  \\\n",
       "0            2013.000000    5.000000  ...  False  False  False  False  False   \n",
       "1            2012.000000    3.000000  ...  False  False  False  False  False   \n",
       "2            2011.046642    1.703825  ...  False  False  False  False  False   \n",
       "3            2010.000000    1.000000  ...  False  False  False  False  False   \n",
       "4            2013.000000    3.000000  ...  False  False  False  False  False   \n",
       "...                  ...         ...  ...    ...    ...    ...    ...    ...   \n",
       "20462        2009.000000    2.000000  ...  False  False  False  False  False   \n",
       "20463        2011.000000    1.000000  ...  False  False  False  False  False   \n",
       "20464        2008.000000    2.000000  ...  False  False  False  False  False   \n",
       "20465        2013.000000    1.000000  ...  False  False  False  False  False   \n",
       "20466        2008.000000    2.000000  ...  False  False  False  False  False   \n",
       "\n",
       "         USA  other.1  isClosed  Age_in_Days  Age_in_Days.1  \n",
       "0       True    False       1.0       6935.0         6935.0  \n",
       "1       True    False       0.0          0.0            0.0  \n",
       "2       True    False       1.0       6205.0         6205.0  \n",
       "3       True    False       1.0       7665.0         7665.0  \n",
       "4       True    False       1.0       6570.0         6570.0  \n",
       "...      ...      ...       ...          ...            ...  \n",
       "20462   True    False       0.0          0.0            0.0  \n",
       "20463  False    False       1.0       4745.0         4745.0  \n",
       "20464   True    False       0.0          0.0            0.0  \n",
       "20465   True    False       1.0       6205.0         6205.0  \n",
       "20466   True    False       1.0       6205.0         6205.0  \n",
       "\n",
       "[20467 rows x 45 columns]"
      ]
     },
     "execution_count": 2,
     "metadata": {},
     "output_type": "execute_result"
    }
   ],
   "source": [
    "# Load the CSV file into a DataFrame\n",
    "df = pd.read_csv('Cleaning data.csv')\n",
    "df"
   ]
  },
  {
   "cell_type": "code",
   "execution_count": 3,
   "metadata": {
    "colab": {
     "base_uri": "https://localhost:8080/"
    },
    "id": "ktgY9vA2n1fY",
    "outputId": "4499c2f7-4b98-4cff-edf7-35b6e73de610"
   },
   "outputs": [
    {
     "name": "stdout",
     "output_type": "stream",
     "text": [
      "<class 'pandas.core.frame.DataFrame'>\n",
      "RangeIndex: 20467 entries, 0 to 20466\n",
      "Data columns (total 45 columns):\n",
      " #   Column              Non-Null Count  Dtype  \n",
      "---  ------              --------------  -----  \n",
      " 0   status              20467 non-null  object \n",
      " 1   founded_at          20467 non-null  float64\n",
      " 2   investment_rounds   20467 non-null  float64\n",
      " 3   first_funding_at    20467 non-null  float64\n",
      " 4   last_funding_at     20467 non-null  float64\n",
      " 5   funding_rounds      20467 non-null  float64\n",
      " 6   funding_total_usd   20467 non-null  float64\n",
      " 7   first_milestone_at  20467 non-null  float64\n",
      " 8   last_milestone_at   20467 non-null  float64\n",
      " 9   milestones          20467 non-null  float64\n",
      " 10  relationships       20467 non-null  float64\n",
      " 11  lat                 20467 non-null  float64\n",
      " 12  lng                 20467 non-null  float64\n",
      " 13  analytics           20467 non-null  bool   \n",
      " 14  biotech             20467 non-null  bool   \n",
      " 15  cleantech           20467 non-null  bool   \n",
      " 16  ecommerce           20467 non-null  bool   \n",
      " 17  enterprise          20467 non-null  bool   \n",
      " 18  games_video         20467 non-null  bool   \n",
      " 19  hardware            20467 non-null  bool   \n",
      " 20  health              20467 non-null  bool   \n",
      " 21  medical             20467 non-null  bool   \n",
      " 22  mobile              20467 non-null  bool   \n",
      " 23  other               20467 non-null  bool   \n",
      " 24  social              20467 non-null  bool   \n",
      " 25  software            20467 non-null  bool   \n",
      " 26  web                 20467 non-null  bool   \n",
      " 27  CAN                 20467 non-null  bool   \n",
      " 28  CHN                 20467 non-null  bool   \n",
      " 29  DEU                 20467 non-null  bool   \n",
      " 30  ESP                 20467 non-null  bool   \n",
      " 31  FRA                 20467 non-null  bool   \n",
      " 32  GBR                 20467 non-null  bool   \n",
      " 33  IND                 20467 non-null  bool   \n",
      " 34  IRL                 20467 non-null  bool   \n",
      " 35  ISR                 20467 non-null  bool   \n",
      " 36  NLD                 20467 non-null  bool   \n",
      " 37  RUS                 20467 non-null  bool   \n",
      " 38  SGP                 20467 non-null  bool   \n",
      " 39  SWE                 20467 non-null  bool   \n",
      " 40  USA                 20467 non-null  bool   \n",
      " 41  other.1             20467 non-null  bool   \n",
      " 42  isClosed            20467 non-null  float64\n",
      " 43  Age_in_Days         20467 non-null  float64\n",
      " 44  Age_in_Days.1       20467 non-null  float64\n",
      "dtypes: bool(29), float64(15), object(1)\n",
      "memory usage: 3.1+ MB\n"
     ]
    }
   ],
   "source": [
    "df.info()"
   ]
  },
  {
   "cell_type": "code",
   "execution_count": 4,
   "metadata": {
    "colab": {
     "base_uri": "https://localhost:8080/"
    },
    "id": "vZKs_efun9HO",
    "outputId": "0314c886-e25d-4ca1-d8c2-5f48a2aa6dc3"
   },
   "outputs": [
    {
     "data": {
      "text/plain": [
       "Index(['status', 'founded_at', 'investment_rounds', 'first_funding_at',\n",
       "       'last_funding_at', 'funding_rounds', 'funding_total_usd',\n",
       "       'first_milestone_at', 'last_milestone_at', 'milestones',\n",
       "       'relationships', 'lat', 'lng', 'isClosed', 'Age_in_Days',\n",
       "       'Age_in_Days.1'],\n",
       "      dtype='object')"
      ]
     },
     "execution_count": 4,
     "metadata": {},
     "output_type": "execute_result"
    }
   ],
   "source": [
    "columns_target = df.select_dtypes(['float64','object'])\n",
    "columns_target.columns"
   ]
  },
  {
   "cell_type": "code",
   "execution_count": 5,
   "metadata": {
    "colab": {
     "base_uri": "https://localhost:8080/"
    },
    "id": "n0IERx2goHGW",
    "outputId": "316d50ac-8f5f-45f8-d352-d85dff8322a8"
   },
   "outputs": [
    {
     "data": {
      "text/plain": [
       "['status',\n",
       " 'founded_at',\n",
       " 'investment_rounds',\n",
       " 'first_funding_at',\n",
       " 'last_funding_at',\n",
       " 'funding_rounds',\n",
       " 'funding_total_usd',\n",
       " 'first_milestone_at',\n",
       " 'last_milestone_at',\n",
       " 'milestones',\n",
       " 'relationships',\n",
       " 'lat',\n",
       " 'lng',\n",
       " 'Age_in_Days',\n",
       " 'Age_in_Days.1']"
      ]
     },
     "execution_count": 5,
     "metadata": {},
     "output_type": "execute_result"
    }
   ],
   "source": [
    "#Making Independent Features\n",
    "train_features = columns_target.columns.tolist()\n",
    "del train_features[13]\n",
    "train_features"
   ]
  },
  {
   "cell_type": "code",
   "execution_count": 6,
   "metadata": {
    "colab": {
     "base_uri": "https://localhost:8080/"
    },
    "id": "hmquom4coxTA",
    "outputId": "25ba8fb9-8f55-4967-f9e0-72de92bdf65c"
   },
   "outputs": [
    {
     "data": {
      "text/plain": [
       "['founded_at',\n",
       " 'investment_rounds',\n",
       " 'first_funding_at',\n",
       " 'last_funding_at',\n",
       " 'funding_rounds',\n",
       " 'funding_total_usd',\n",
       " 'first_milestone_at',\n",
       " 'last_milestone_at',\n",
       " 'milestones',\n",
       " 'relationships',\n",
       " 'lat',\n",
       " 'lng',\n",
       " 'Age_in_Days',\n",
       " 'Age_in_Days.1']"
      ]
     },
     "execution_count": 6,
     "metadata": {},
     "output_type": "execute_result"
    }
   ],
   "source": [
    "#Eliminating 'status' as it relates to 'isClosed'\n",
    "del train_features[0]\n",
    "train_features"
   ]
  },
  {
   "cell_type": "code",
   "execution_count": 7,
   "metadata": {
    "colab": {
     "base_uri": "https://localhost:8080/"
    },
    "id": "F__uuMj5pIq9",
    "outputId": "c3cf2df3-05ec-41eb-d3a6-113799db2c6b"
   },
   "outputs": [
    {
     "data": {
      "text/plain": [
       "['founded_at',\n",
       " 'investment_rounds',\n",
       " 'first_funding_at',\n",
       " 'last_funding_at',\n",
       " 'funding_rounds',\n",
       " 'funding_total_usd',\n",
       " 'first_milestone_at',\n",
       " 'last_milestone_at',\n",
       " 'milestones',\n",
       " 'relationships',\n",
       " 'lat',\n",
       " 'lng',\n",
       " 'Age_in_Days']"
      ]
     },
     "execution_count": 7,
     "metadata": {},
     "output_type": "execute_result"
    }
   ],
   "source": [
    "#Eliminating 'Age_in_Days.1' as it is just the replication of 'Age_in_Days'\n",
    "del train_features[13]\n",
    "train_features"
   ]
  },
  {
   "cell_type": "code",
   "execution_count": 8,
   "metadata": {
    "colab": {
     "base_uri": "https://localhost:8080/"
    },
    "id": "UkawxV3RpPBo",
    "outputId": "7b39fc63-35c4-469f-cbba-65fde3e2bbbb"
   },
   "outputs": [
    {
     "data": {
      "text/plain": [
       "['investment_rounds',\n",
       " 'first_funding_at',\n",
       " 'last_funding_at',\n",
       " 'funding_rounds',\n",
       " 'funding_total_usd',\n",
       " 'first_milestone_at',\n",
       " 'last_milestone_at',\n",
       " 'milestones',\n",
       " 'relationships',\n",
       " 'lat',\n",
       " 'lng',\n",
       " 'Age_in_Days']"
      ]
     },
     "execution_count": 8,
     "metadata": {},
     "output_type": "execute_result"
    }
   ],
   "source": [
    "#Eliminating 'founded_at' as it relates to 'Age_in_Days'\n",
    "del train_features[0]\n",
    "train_features"
   ]
  },
  {
   "cell_type": "code",
   "execution_count": 9,
   "metadata": {
    "id": "2Kte6mBnpRJI"
   },
   "outputs": [],
   "source": [
    "X = df[train_features]\n",
    "y = df['isClosed']"
   ]
  },
  {
   "cell_type": "code",
   "execution_count": 10,
   "metadata": {
    "id": "6KGNFlQGqAwh"
   },
   "outputs": [],
   "source": [
    "#Over Sampling minority class using Synthetic Minority Oversampling Technique (SMOTE)\n",
    "from imblearn.over_sampling import SMOTE\n",
    "smote = SMOTE(sampling_strategy='minority')\n",
    "X , y = smote.fit_resample(X,y)"
   ]
  },
  {
   "cell_type": "code",
   "execution_count": 11,
   "metadata": {
    "colab": {
     "base_uri": "https://localhost:8080/"
    },
    "id": "efcODtlAqRTS",
    "outputId": "0d2fb526-29dd-43ea-f727-c207b7c1131e"
   },
   "outputs": [
    {
     "data": {
      "text/plain": [
       "isClosed\n",
       "1.0    17553\n",
       "0.0    17553\n",
       "Name: count, dtype: int64"
      ]
     },
     "execution_count": 11,
     "metadata": {},
     "output_type": "execute_result"
    }
   ],
   "source": [
    "y.value_counts()\n"
   ]
  },
  {
   "cell_type": "code",
   "execution_count": 12,
   "metadata": {
    "colab": {
     "base_uri": "https://localhost:8080/",
     "height": 521
    },
    "id": "1cznB8LGqVN5",
    "outputId": "dd3a3129-39bf-4342-cf80-23952cc88209"
   },
   "outputs": [
    {
     "data": {
      "image/png": "[encoded data removed]",
      "text/plain": [
       "<Figure size 600x600 with 1 Axes>"
      ]
     },
     "metadata": {},
     "output_type": "display_data"
    }
   ],
   "source": [
    "closed_counts = y.value_counts()\n",
    "\n",
    "# Create a pie chart\n",
    "plt.figure(figsize=(6, 6))\n",
    "plt.pie(closed_counts, labels=closed_counts.index, autopct='%1.1f%%', startangle=140)\n",
    "plt.title('Distribution of isClosed')\n",
    "plt.axis('equal')  # Equal aspect ratio ensures that pie is drawn as a circle.\n",
    "plt.show()"
   ]
  },
  {
   "cell_type": "code",
   "execution_count": 13,
   "metadata": {
    "colab": {
     "base_uri": "https://localhost:8080/",
     "height": 383
    },
    "id": "jFNPev6260Qk",
    "outputId": "2ac0b8c8-91aa-4c11-a988-0147785d8c6a"
   },
   "outputs": [
    {
     "data": {
      "text/html": [
       "<div>\n",
       "<style scoped>\n",
       "    .dataframe tbody tr th:only-of-type {\n",
       "        vertical-align: middle;\n",
       "    }\n",
       "\n",
       "    .dataframe tbody tr th {\n",
       "        vertical-align: top;\n",
       "    }\n",
       "\n",
       "    .dataframe thead th {\n",
       "        text-align: right;\n",
       "    }\n",
       "</style>\n",
       "<table border=\"1\" class=\"dataframe\">\n",
       "  <thead>\n",
       "    <tr style=\"text-align: right;\">\n",
       "      <th></th>\n",
       "      <th>investment_rounds</th>\n",
       "      <th>first_funding_at</th>\n",
       "      <th>last_funding_at</th>\n",
       "      <th>funding_rounds</th>\n",
       "      <th>funding_total_usd</th>\n",
       "      <th>first_milestone_at</th>\n",
       "      <th>last_milestone_at</th>\n",
       "      <th>milestones</th>\n",
       "      <th>relationships</th>\n",
       "      <th>lat</th>\n",
       "      <th>lng</th>\n",
       "      <th>Age_in_Days</th>\n",
       "    </tr>\n",
       "  </thead>\n",
       "  <tbody>\n",
       "    <tr>\n",
       "      <th>0</th>\n",
       "      <td>9.010471</td>\n",
       "      <td>2005.0</td>\n",
       "      <td>2008.0</td>\n",
       "      <td>3.0</td>\n",
       "      <td>39750000.0</td>\n",
       "      <td>2010.000000</td>\n",
       "      <td>2013.000000</td>\n",
       "      <td>5.000000</td>\n",
       "      <td>17.00000</td>\n",
       "      <td>47.606209</td>\n",
       "      <td>-122.332071</td>\n",
       "      <td>6935.0</td>\n",
       "    </tr>\n",
       "    <tr>\n",
       "      <th>1</th>\n",
       "      <td>9.010471</td>\n",
       "      <td>2008.0</td>\n",
       "      <td>2008.0</td>\n",
       "      <td>1.0</td>\n",
       "      <td>5000000.0</td>\n",
       "      <td>2008.000000</td>\n",
       "      <td>2012.000000</td>\n",
       "      <td>3.000000</td>\n",
       "      <td>14.00000</td>\n",
       "      <td>37.386052</td>\n",
       "      <td>-122.083851</td>\n",
       "      <td>0.0</td>\n",
       "    </tr>\n",
       "    <tr>\n",
       "      <th>2</th>\n",
       "      <td>9.010471</td>\n",
       "      <td>2008.0</td>\n",
       "      <td>2013.0</td>\n",
       "      <td>5.0</td>\n",
       "      <td>68069200.0</td>\n",
       "      <td>2010.164879</td>\n",
       "      <td>2011.046642</td>\n",
       "      <td>1.703825</td>\n",
       "      <td>14.00000</td>\n",
       "      <td>37.774929</td>\n",
       "      <td>-122.419415</td>\n",
       "      <td>6205.0</td>\n",
       "    </tr>\n",
       "    <tr>\n",
       "      <th>3</th>\n",
       "      <td>9.010471</td>\n",
       "      <td>2011.0</td>\n",
       "      <td>2012.0</td>\n",
       "      <td>3.0</td>\n",
       "      <td>10125293.0</td>\n",
       "      <td>2010.000000</td>\n",
       "      <td>2010.000000</td>\n",
       "      <td>1.000000</td>\n",
       "      <td>6.00000</td>\n",
       "      <td>30.267153</td>\n",
       "      <td>-97.743061</td>\n",
       "      <td>7665.0</td>\n",
       "    </tr>\n",
       "    <tr>\n",
       "      <th>4</th>\n",
       "      <td>9.010471</td>\n",
       "      <td>2008.0</td>\n",
       "      <td>2013.0</td>\n",
       "      <td>3.0</td>\n",
       "      <td>33000000.0</td>\n",
       "      <td>2010.000000</td>\n",
       "      <td>2013.000000</td>\n",
       "      <td>3.000000</td>\n",
       "      <td>19.00000</td>\n",
       "      <td>37.774929</td>\n",
       "      <td>-122.419415</td>\n",
       "      <td>6570.0</td>\n",
       "    </tr>\n",
       "    <tr>\n",
       "      <th>5</th>\n",
       "      <td>9.010471</td>\n",
       "      <td>2003.0</td>\n",
       "      <td>2003.0</td>\n",
       "      <td>1.0</td>\n",
       "      <td>250000.0</td>\n",
       "      <td>2007.000000</td>\n",
       "      <td>2007.000000</td>\n",
       "      <td>1.000000</td>\n",
       "      <td>2.00000</td>\n",
       "      <td>-27.469771</td>\n",
       "      <td>153.025124</td>\n",
       "      <td>7665.0</td>\n",
       "    </tr>\n",
       "    <tr>\n",
       "      <th>6</th>\n",
       "      <td>9.010471</td>\n",
       "      <td>2011.0</td>\n",
       "      <td>2011.0</td>\n",
       "      <td>1.0</td>\n",
       "      <td>100000.0</td>\n",
       "      <td>2010.000000</td>\n",
       "      <td>2010.000000</td>\n",
       "      <td>1.000000</td>\n",
       "      <td>6.14057</td>\n",
       "      <td>38.559376</td>\n",
       "      <td>-67.025344</td>\n",
       "      <td>5110.0</td>\n",
       "    </tr>\n",
       "    <tr>\n",
       "      <th>7</th>\n",
       "      <td>9.010471</td>\n",
       "      <td>2011.0</td>\n",
       "      <td>2012.0</td>\n",
       "      <td>2.0</td>\n",
       "      <td>11300000.0</td>\n",
       "      <td>2010.164879</td>\n",
       "      <td>2011.046642</td>\n",
       "      <td>1.703825</td>\n",
       "      <td>2.00000</td>\n",
       "      <td>42.018989</td>\n",
       "      <td>-71.007822</td>\n",
       "      <td>6570.0</td>\n",
       "    </tr>\n",
       "    <tr>\n",
       "      <th>8</th>\n",
       "      <td>9.010471</td>\n",
       "      <td>2007.0</td>\n",
       "      <td>2007.0</td>\n",
       "      <td>2.0</td>\n",
       "      <td>414840.0</td>\n",
       "      <td>2010.164879</td>\n",
       "      <td>2011.046642</td>\n",
       "      <td>1.703825</td>\n",
       "      <td>2.00000</td>\n",
       "      <td>48.856614</td>\n",
       "      <td>2.352222</td>\n",
       "      <td>6570.0</td>\n",
       "    </tr>\n",
       "    <tr>\n",
       "      <th>9</th>\n",
       "      <td>9.010471</td>\n",
       "      <td>2011.0</td>\n",
       "      <td>2011.0</td>\n",
       "      <td>1.0</td>\n",
       "      <td>1500000.0</td>\n",
       "      <td>2010.000000</td>\n",
       "      <td>2010.000000</td>\n",
       "      <td>1.000000</td>\n",
       "      <td>8.00000</td>\n",
       "      <td>47.610150</td>\n",
       "      <td>-122.201516</td>\n",
       "      <td>7300.0</td>\n",
       "    </tr>\n",
       "  </tbody>\n",
       "</table>\n",
       "</div>"
      ],
      "text/plain": [
       "   investment_rounds  first_funding_at  last_funding_at  funding_rounds  \\\n",
       "0           9.010471            2005.0           2008.0             3.0   \n",
       "1           9.010471            2008.0           2008.0             1.0   \n",
       "2           9.010471            2008.0           2013.0             5.0   \n",
       "3           9.010471            2011.0           2012.0             3.0   \n",
       "4           9.010471            2008.0           2013.0             3.0   \n",
       "5           9.010471            2003.0           2003.0             1.0   \n",
       "6           9.010471            2011.0           2011.0             1.0   \n",
       "7           9.010471            2011.0           2012.0             2.0   \n",
       "8           9.010471            2007.0           2007.0             2.0   \n",
       "9           9.010471            2011.0           2011.0             1.0   \n",
       "\n",
       "   funding_total_usd  first_milestone_at  last_milestone_at  milestones  \\\n",
       "0         39750000.0         2010.000000        2013.000000    5.000000   \n",
       "1          5000000.0         2008.000000        2012.000000    3.000000   \n",
       "2         68069200.0         2010.164879        2011.046642    1.703825   \n",
       "3         10125293.0         2010.000000        2010.000000    1.000000   \n",
       "4         33000000.0         2010.000000        2013.000000    3.000000   \n",
       "5           250000.0         2007.000000        2007.000000    1.000000   \n",
       "6           100000.0         2010.000000        2010.000000    1.000000   \n",
       "7         11300000.0         2010.164879        2011.046642    1.703825   \n",
       "8           414840.0         2010.164879        2011.046642    1.703825   \n",
       "9          1500000.0         2010.000000        2010.000000    1.000000   \n",
       "\n",
       "   relationships        lat         lng  Age_in_Days  \n",
       "0       17.00000  47.606209 -122.332071       6935.0  \n",
       "1       14.00000  37.386052 -122.083851          0.0  \n",
       "2       14.00000  37.774929 -122.419415       6205.0  \n",
       "3        6.00000  30.267153  -97.743061       7665.0  \n",
       "4       19.00000  37.774929 -122.419415       6570.0  \n",
       "5        2.00000 -27.469771  153.025124       7665.0  \n",
       "6        6.14057  38.559376  -67.025344       5110.0  \n",
       "7        2.00000  42.018989  -71.007822       6570.0  \n",
       "8        2.00000  48.856614    2.352222       6570.0  \n",
       "9        8.00000  47.610150 -122.201516       7300.0  "
      ]
     },
     "execution_count": 13,
     "metadata": {},
     "output_type": "execute_result"
    }
   ],
   "source": [
    "X.head(10)"
   ]
  },
  {
   "cell_type": "code",
   "execution_count": 14,
   "metadata": {
    "id": "2dNdI2MRzMCA"
   },
   "outputs": [],
   "source": [
    "\n",
    "\n",
    "# Assuming you have your data loaded into X (features) and y (labels/target)\n",
    "# Split the data into training and testing sets\n",
    "X_train, X_test, y_train, y_test = train_test_split(X, y, test_size=0.2, random_state=42)\n",
    "\n",
    "# Standardize the features\n",
    "scaler = StandardScaler()\n",
    "X_train_scaled = scaler.fit_transform(X_train)\n",
    "X_test_scaled = scaler.transform(X_test)\n",
    "\n",
    "\n",
    "\n"
   ]
  },
  {
   "cell_type": "code",
   "execution_count": 15,
   "metadata": {
    "colab": {
     "base_uri": "https://localhost:8080/",
     "height": 472
    },
    "id": "7y6tmX-g1oRm",
    "outputId": "272d7d3d-9ddd-4868-d572-c43dac8af0d3"
   },
   "outputs": [
    {
     "data": {
      "image/png": "[encoded data removed]",
      "text/plain": [
       "<Figure size 640x480 with 1 Axes>"
      ]
     },
     "metadata": {},
     "output_type": "display_data"
    }
   ],
   "source": [
    "# Instantiate the XGBoost classifier with default parameters\n",
    "model = XGBClassifier()\n",
    "\n",
    "# Train the model on the resampled training data\n",
    "model.fit(X_train, y_train)\n",
    "\n",
    "# Make predictions on the testing data\n",
    "y_pred_proba = model.predict_proba(X_test_scaled)[:, 1]  # Probability of positive class\n",
    "fpr, tpr, thresholds = roc_curve(y_test, y_pred_proba)\n",
    "roc_auc = roc_auc_score(y_test, y_pred_proba)\n",
    "\n",
    "# Plot ROC curve\n",
    "plt.figure()\n",
    "plt.plot(fpr, tpr, color='blue', lw=2, label='ROC curve (AUC = %0.2f)' % roc_auc)\n",
    "plt.plot([0, 1], [0, 1], color='red', lw=2, linestyle='--')\n",
    "plt.xlim([0.0, 1.0])\n",
    "plt.ylim([0.0, 1.05])\n",
    "plt.xlabel('False Positive Rate')\n",
    "plt.ylabel('True Positive Rate')\n",
    "plt.title('Receiver Operating Characteristic (ROC)')\n",
    "plt.legend(loc=\"lower right\")\n",
    "plt.show()\n",
    "\n"
   ]
  },
  {
   "cell_type": "code",
   "execution_count": 16,
   "metadata": {
    "colab": {
     "base_uri": "https://localhost:8080/"
    },
    "id": "0e_TKU8f10gM",
    "outputId": "cc09d9d1-28fe-40e0-8c9d-48cee4b053f6"
   },
   "outputs": [
    {
     "name": "stdout",
     "output_type": "stream",
     "text": [
      "Accuracy: 0.5\n",
      "Precision: 0.0\n",
      "Recall: 0.0\n",
      "F1-score: 0.0\n"
     ]
    }
   ],
   "source": [
    "# Choose threshold to maximize F1-score\n",
    "optimal_threshold = thresholds[np.argmax(tpr - fpr)]\n",
    "\n",
    "# Convert probabilities to binary predictions based on the optimal threshold\n",
    "y_pred_class = [1 if prob >= optimal_threshold else 0 for prob in y_pred_proba]\n",
    "\n",
    "# Compute evaluation metrics\n",
    "accuracy = accuracy_score(y_test, y_pred_class)\n",
    "precision = precision_score(y_test, y_pred_class)\n",
    "recall = recall_score(y_test, y_pred_class)\n",
    "f1 = f1_score(y_test, y_pred_class)\n",
    "\n",
    "print(\"Accuracy:\", accuracy)\n",
    "print(\"Precision:\", precision)\n",
    "print(\"Recall:\", recall)\n",
    "print(\"F1-score:\", f1)"
   ]
  },
  {
   "cell_type": "code",
   "execution_count": 17,
   "metadata": {
    "id": "RMAgF1sP14P-"
   },
   "outputs": [],
   "source": [
    "# Oversampling again\n",
    "smote = SMOTE(sampling_strategy='minority')\n",
    "X_train_resampled, y_train_resampled = smote.fit_resample(X_train_scaled, y_train)\n"
   ]
  },
  {
   "cell_type": "code",
   "execution_count": 18,
   "metadata": {
    "colab": {
     "base_uri": "https://localhost:8080/"
    },
    "id": "2SrNkVam3wtn",
    "outputId": "c0aab47d-8e5d-4739-e111-1df9677a716b"
   },
   "outputs": [
    {
     "data": {
      "text/plain": [
       "isClosed\n",
       "0.0    14042\n",
       "1.0    14042\n",
       "Name: count, dtype: int64"
      ]
     },
     "execution_count": 18,
     "metadata": {},
     "output_type": "execute_result"
    }
   ],
   "source": [
    "y_train_resampled.value_counts()\n"
   ]
  },
  {
   "cell_type": "code",
   "execution_count": 19,
   "metadata": {
    "colab": {
     "base_uri": "https://localhost:8080/",
     "height": 543
    },
    "id": "dkRYEVHL334h",
    "outputId": "b80ea67d-c2dc-4ca0-ad3c-715f9129e2e1"
   },
   "outputs": [
    {
     "data": {
      "image/png": "[encoded data removed]",
      "text/plain": [
       "<Figure size 640x480 with 1 Axes>"
      ]
     },
     "metadata": {},
     "output_type": "display_data"
    },
    {
     "name": "stdout",
     "output_type": "stream",
     "text": [
      "Accuracy: 0.9998575904300769\n",
      "Precision: 1.0\n",
      "Recall: 0.9997151808601538\n",
      "F1-score: 0.9998575701467027\n"
     ]
    }
   ],
   "source": [
    "model.fit(X_train_resampled, y_train_resampled)\n",
    "\n",
    "# Make predictions on the testing data\n",
    "y_pred_proba = model.predict_proba(X_test_scaled)[:, 1]  # Probability of positive class\n",
    "fpr, tpr, thresholds = roc_curve(y_test, y_pred_proba)\n",
    "roc_auc = roc_auc_score(y_test, y_pred_proba)\n",
    "\n",
    "# Plot ROC curve\n",
    "plt.figure()\n",
    "plt.plot(fpr, tpr, color='blue', lw=2, label='ROC curve (AUC = %0.2f)' % roc_auc)\n",
    "plt.plot([0, 1], [0, 1], color='red', lw=2, linestyle='--')\n",
    "plt.xlim([0.0, 1.0])\n",
    "plt.ylim([0.0, 1.05])\n",
    "plt.xlabel('False Positive Rate')\n",
    "plt.ylabel('True Positive Rate')\n",
    "plt.title('Receiver Operating Characteristic (ROC)')\n",
    "plt.legend(loc=\"lower right\")\n",
    "plt.show()\n",
    "\n",
    "# Choose threshold to maximize F1-score\n",
    "optimal_threshold = thresholds[np.argmax(tpr - fpr)]\n",
    "\n",
    "# Convert probabilities to binary predictions based on the optimal threshold\n",
    "y_pred_class = [1 if prob >= optimal_threshold else 0 for prob in y_pred_proba]\n",
    "\n",
    "# Compute evaluation metrics\n",
    "accuracy = accuracy_score(y_test, y_pred_class)\n",
    "precision = precision_score(y_test, y_pred_class)\n",
    "recall = recall_score(y_test, y_pred_class)\n",
    "f1 = f1_score(y_test, y_pred_class)\n",
    "\n",
    "print(\"Accuracy:\", accuracy)\n",
    "print(\"Precision:\", precision)\n",
    "print(\"Recall:\", recall)\n",
    "print(\"F1-score:\", f1)"
   ]
  },
  {
   "cell_type": "code",
   "execution_count": null,
   "metadata": {
    "id": "J1fQ-idI6H4R"
   },
   "outputs": [],
   "source": []
  }
 ],
 "metadata": {
  "colab": {
   "provenance": []
  },
  "kernelspec": {
   "display_name": "Python 3 (ipykernel)",
   "language": "python",
   "name": "python3"
  },
  "language_info": {
   "codemirror_mode": {
    "name": "ipython",
    "version": 3
   },
   "file_extension": ".py",
   "mimetype": "text/x-python",
   "name": "python",
   "nbconvert_exporter": "python",
   "pygments_lexer": "ipython3",
   "version": "3.11.8"
  }
 },
 "nbformat": 4,
 "nbformat_minor": 4
}
